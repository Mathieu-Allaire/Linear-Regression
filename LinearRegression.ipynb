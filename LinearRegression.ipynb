{
  "nbformat": 4,
  "nbformat_minor": 0,
  "metadata": {
    "colab": {
      "provenance": [],
      "collapsed_sections": [],
      "include_colab_link": true
    },
    "kernelspec": {
      "name": "python3",
      "display_name": "Python 3"
    },
    "language_info": {
      "name": "python"
    }
  },
  "cells": [
    {
      "cell_type": "markdown",
      "metadata": {
        "id": "view-in-github",
        "colab_type": "text"
      },
      "source": [
        "<a href=\"https://colab.research.google.com/github/Mathieu-Allaire/Linear-Regression/blob/main/LinearRegression.ipynb\" target=\"_parent\"><img src=\"https://colab.research.google.com/assets/colab-badge.svg\" alt=\"Open In Colab\"/></a>"
      ]
    },
    {
      "cell_type": "markdown",
      "source": [
        "# Load data"
      ],
      "metadata": {
        "id": "q8_7a25indc0"
      }
    },
    {
      "cell_type": "code",
      "source": [
        "import pandas as pd\n",
        "import matplotlib.pyplot as plt\n",
        "import math\n",
        "import numpy as np\n",
        "plt.style.use(\"ggplot\")\n",
        "\n",
        "# Source of data - https://www.stat.cmu.edu/~larry/all-of-statistics/=data/temp.dat\n",
        "# I am hosting data in Google spreadsheet\n",
        "path_to_data=\"https://docs.google.com/spreadsheets/d/1pxZfbMEYwLoFQ2z0OVUxhz-5WY4w-GaZwEOUDPTA7iM/export?format=csv\"\n",
        "df=pd.read_csv(path_to_data,index_col=0)"
      ],
      "metadata": {
        "id": "1FuO0JTtVyEZ"
      },
      "execution_count": 1,
      "outputs": []
    },
    {
      "cell_type": "code",
      "source": [
        "df.shape"
      ],
      "metadata": {
        "colab": {
          "base_uri": "https://localhost:8080/"
        },
        "id": "paEwo2dzQ4MK",
        "outputId": "18f6403d-d7ae-4f1a-e1f8-8de868c0aaf1"
      },
      "execution_count": 2,
      "outputs": [
        {
          "output_type": "execute_result",
          "data": {
            "text/plain": [
              "(56, 3)"
            ]
          },
          "metadata": {},
          "execution_count": 2
        }
      ]
    },
    {
      "cell_type": "code",
      "source": [],
      "metadata": {
        "id": "ZSF5FZ08N4z4"
      },
      "execution_count": 2,
      "outputs": []
    },
    {
      "cell_type": "markdown",
      "source": [
        "# TASK 1: Explore Data using pandas\n",
        "\n",
        "\n",
        "1.   What is the average temperature across all the cities?\n",
        "2.   What are the northern and southern cities?\n",
        "3.   Add a column where the `JanTemp` column has been converted to Celcius scale. \n",
        "\n"
      ],
      "metadata": {
        "id": "IrDF68fzyRpA"
      }
    },
    {
      "cell_type": "code",
      "source": [
        "# df[df[\"Lat\"]==df[\"Lat\"].max()]\n",
        "df[\"JanTempC\"]=(df[\"JanTemp\"]-32)*5/9\n",
        "df.sample(3).round(1)"
      ],
      "metadata": {
        "id": "hhKAazzgyPEq",
        "colab": {
          "base_uri": "https://localhost:8080/",
          "height": 175
        },
        "outputId": "7de2b6e8-4031-4648-91c2-4b9d52f7e43e"
      },
      "execution_count": null,
      "outputs": [
        {
          "output_type": "execute_result",
          "data": {
            "text/plain": [
              "                  JanTemp   Lat  Long  JanTempC\n",
              "City                                           \n",
              "Harrisburg, PA         24  40.9  77.8      -4.4\n",
              "Charleston, SC         38  33.3  80.8       3.3\n",
              "Jacksonville, FL       45  31.0  82.3       7.2"
            ],
            "text/html": [
              "\n",
              "  <div id=\"df-63828632-ae6a-46c0-a602-4808aa8c200d\">\n",
              "    <div class=\"colab-df-container\">\n",
              "      <div>\n",
              "<style scoped>\n",
              "    .dataframe tbody tr th:only-of-type {\n",
              "        vertical-align: middle;\n",
              "    }\n",
              "\n",
              "    .dataframe tbody tr th {\n",
              "        vertical-align: top;\n",
              "    }\n",
              "\n",
              "    .dataframe thead th {\n",
              "        text-align: right;\n",
              "    }\n",
              "</style>\n",
              "<table border=\"1\" class=\"dataframe\">\n",
              "  <thead>\n",
              "    <tr style=\"text-align: right;\">\n",
              "      <th></th>\n",
              "      <th>JanTemp</th>\n",
              "      <th>Lat</th>\n",
              "      <th>Long</th>\n",
              "      <th>JanTempC</th>\n",
              "    </tr>\n",
              "    <tr>\n",
              "      <th>City</th>\n",
              "      <th></th>\n",
              "      <th></th>\n",
              "      <th></th>\n",
              "      <th></th>\n",
              "    </tr>\n",
              "  </thead>\n",
              "  <tbody>\n",
              "    <tr>\n",
              "      <th>Harrisburg, PA</th>\n",
              "      <td>24</td>\n",
              "      <td>40.9</td>\n",
              "      <td>77.8</td>\n",
              "      <td>-4.4</td>\n",
              "    </tr>\n",
              "    <tr>\n",
              "      <th>Charleston, SC</th>\n",
              "      <td>38</td>\n",
              "      <td>33.3</td>\n",
              "      <td>80.8</td>\n",
              "      <td>3.3</td>\n",
              "    </tr>\n",
              "    <tr>\n",
              "      <th>Jacksonville, FL</th>\n",
              "      <td>45</td>\n",
              "      <td>31.0</td>\n",
              "      <td>82.3</td>\n",
              "      <td>7.2</td>\n",
              "    </tr>\n",
              "  </tbody>\n",
              "</table>\n",
              "</div>\n",
              "      <button class=\"colab-df-convert\" onclick=\"convertToInteractive('df-63828632-ae6a-46c0-a602-4808aa8c200d')\"\n",
              "              title=\"Convert this dataframe to an interactive table.\"\n",
              "              style=\"display:none;\">\n",
              "        \n",
              "  <svg xmlns=\"http://www.w3.org/2000/svg\" height=\"24px\"viewBox=\"0 0 24 24\"\n",
              "       width=\"24px\">\n",
              "    <path d=\"M0 0h24v24H0V0z\" fill=\"none\"/>\n",
              "    <path d=\"M18.56 5.44l.94 2.06.94-2.06 2.06-.94-2.06-.94-.94-2.06-.94 2.06-2.06.94zm-11 1L8.5 8.5l.94-2.06 2.06-.94-2.06-.94L8.5 2.5l-.94 2.06-2.06.94zm10 10l.94 2.06.94-2.06 2.06-.94-2.06-.94-.94-2.06-.94 2.06-2.06.94z\"/><path d=\"M17.41 7.96l-1.37-1.37c-.4-.4-.92-.59-1.43-.59-.52 0-1.04.2-1.43.59L10.3 9.45l-7.72 7.72c-.78.78-.78 2.05 0 2.83L4 21.41c.39.39.9.59 1.41.59.51 0 1.02-.2 1.41-.59l7.78-7.78 2.81-2.81c.8-.78.8-2.07 0-2.86zM5.41 20L4 18.59l7.72-7.72 1.47 1.35L5.41 20z\"/>\n",
              "  </svg>\n",
              "      </button>\n",
              "      \n",
              "  <style>\n",
              "    .colab-df-container {\n",
              "      display:flex;\n",
              "      flex-wrap:wrap;\n",
              "      gap: 12px;\n",
              "    }\n",
              "\n",
              "    .colab-df-convert {\n",
              "      background-color: #E8F0FE;\n",
              "      border: none;\n",
              "      border-radius: 50%;\n",
              "      cursor: pointer;\n",
              "      display: none;\n",
              "      fill: #1967D2;\n",
              "      height: 32px;\n",
              "      padding: 0 0 0 0;\n",
              "      width: 32px;\n",
              "    }\n",
              "\n",
              "    .colab-df-convert:hover {\n",
              "      background-color: #E2EBFA;\n",
              "      box-shadow: 0px 1px 2px rgba(60, 64, 67, 0.3), 0px 1px 3px 1px rgba(60, 64, 67, 0.15);\n",
              "      fill: #174EA6;\n",
              "    }\n",
              "\n",
              "    [theme=dark] .colab-df-convert {\n",
              "      background-color: #3B4455;\n",
              "      fill: #D2E3FC;\n",
              "    }\n",
              "\n",
              "    [theme=dark] .colab-df-convert:hover {\n",
              "      background-color: #434B5C;\n",
              "      box-shadow: 0px 1px 3px 1px rgba(0, 0, 0, 0.15);\n",
              "      filter: drop-shadow(0px 1px 2px rgba(0, 0, 0, 0.3));\n",
              "      fill: #FFFFFF;\n",
              "    }\n",
              "  </style>\n",
              "\n",
              "      <script>\n",
              "        const buttonEl =\n",
              "          document.querySelector('#df-63828632-ae6a-46c0-a602-4808aa8c200d button.colab-df-convert');\n",
              "        buttonEl.style.display =\n",
              "          google.colab.kernel.accessAllowed ? 'block' : 'none';\n",
              "\n",
              "        async function convertToInteractive(key) {\n",
              "          const element = document.querySelector('#df-63828632-ae6a-46c0-a602-4808aa8c200d');\n",
              "          const dataTable =\n",
              "            await google.colab.kernel.invokeFunction('convertToInteractive',\n",
              "                                                     [key], {});\n",
              "          if (!dataTable) return;\n",
              "\n",
              "          const docLinkHtml = 'Like what you see? Visit the ' +\n",
              "            '<a target=\"_blank\" href=https://colab.research.google.com/notebooks/data_table.ipynb>data table notebook</a>'\n",
              "            + ' to learn more about interactive tables.';\n",
              "          element.innerHTML = '';\n",
              "          dataTable['output_type'] = 'display_data';\n",
              "          await google.colab.output.renderOutput(dataTable, element);\n",
              "          const docLink = document.createElement('div');\n",
              "          docLink.innerHTML = docLinkHtml;\n",
              "          element.appendChild(docLink);\n",
              "        }\n",
              "      </script>\n",
              "    </div>\n",
              "  </div>\n",
              "  "
            ]
          },
          "metadata": {},
          "execution_count": 28
        }
      ]
    },
    {
      "cell_type": "markdown",
      "source": [
        "# Plot the two variables of interest"
      ],
      "metadata": {
        "id": "MYKympLty87E"
      }
    },
    {
      "cell_type": "code",
      "source": [
        "# better way to call matplotlib; ax is now our `handle`\n",
        "fig, ax = plt.subplots()\n",
        "\n",
        "ax.scatter(\n",
        "    x = df[\"Lat\"],\n",
        "    y = df[\"JanTemp\"],\n",
        "    c = \"cornflowerblue\"\n",
        ")\n",
        "\n",
        "# Sample 5 rows from data at random, loop through and add city names as labels\n",
        "for i,r in df.sample(5).iterrows():\n",
        "  ax.annotate(i,(r[\"Lat\"],r[\"JanTemp\"]))\n",
        "\n",
        "# Label axes\n",
        "ax.set_xlabel(\"Latitude\")\n",
        "ax.set_ylabel(\"Temp in January\")"
      ],
      "metadata": {
        "id": "sCqczkXKeSd6",
        "colab": {
          "base_uri": "https://localhost:8080/",
          "height": 301
        },
        "outputId": "7f99203d-23cc-4b8e-ac07-26c0a84c01c9"
      },
      "execution_count": null,
      "outputs": [
        {
          "output_type": "execute_result",
          "data": {
            "text/plain": [
              "Text(0, 0.5, 'Temp in January')"
            ]
          },
          "metadata": {},
          "execution_count": 30
        },
        {
          "output_type": "display_data",
          "data": {
            "text/plain": [
              "<Figure size 432x288 with 1 Axes>"
            ],
            "image/png": "[encoded data removed]"
          },
          "metadata": {}
        }
      ]
    },
    {
      "cell_type": "markdown",
      "source": [
        "# TASK 2: Guess Line of Best Fit\n",
        "\n",
        "Take guesses on the slope and intercept that would define your best guess at the Line of Best Fit for this data"
      ],
      "metadata": {
        "id": "WvCWEvSSz9Dp"
      }
    },
    {
      "cell_type": "code",
      "source": [
        "# take guesses at what the slope and intercept that would define line of best fit\n",
        "A_GUESS = -2.8\n",
        "B_GUESS = 135\n",
        "\n",
        "# Linear function \n",
        "f_guess = lambda x: A_GUESS*x + B_GUESS\n",
        "\n",
        "# use numpy to make an array of 100 evenly spaced latitudes to test our guessed line of best fit\n",
        "x = np.linspace(\n",
        "    df[\"Lat\"].min(),\n",
        "    df[\"Lat\"].max(),\n",
        "    100\n",
        ")\n",
        "\n",
        "# start plot again, but draw guessed line of best fit\n",
        "fig, ax = plt.subplots()\n",
        "\n",
        "ax.scatter(\n",
        "    x = df[\"Lat\"],\n",
        "    y = df[\"JanTemp\"],\n",
        "    c = \"cornflowerblue\"\n",
        ")\n",
        "\n",
        "# Sample 5 rows from data at random, loop through and add city names as labels\n",
        "for i,r in df.sample(5)[[\"Lat\",\"JanTemp\"]].iterrows():\n",
        "  ax.annotate(i,(r[\"Lat\"],r[\"JanTemp\"]))\n",
        "\n",
        "# Label axes\n",
        "ax.set_xlabel(\"Latitude\")\n",
        "ax.set_ylabel(\"Temp in January\")\n",
        "\n",
        "# plot guessed line of best fit\n",
        "ax.plot(x,f_guess(x),c=\"red\",linestyle=\"dashed\")"
      ],
      "metadata": {
        "id": "l-dfpSohnsyV",
        "colab": {
          "base_uri": "https://localhost:8080/",
          "height": 301
        },
        "outputId": "dc9885b6-b992-4160-970e-ab8986d3f907"
      },
      "execution_count": null,
      "outputs": [
        {
          "output_type": "execute_result",
          "data": {
            "text/plain": [
              "[<matplotlib.lines.Line2D at 0x7ff13ad583d0>]"
            ]
          },
          "metadata": {},
          "execution_count": 32
        },
        {
          "output_type": "display_data",
          "data": {
            "text/plain": [
              "<Figure size 432x288 with 1 Axes>"
            ],
            "image/png": "[encoded data removed]"
          },
          "metadata": {}
        }
      ]
    },
    {
      "cell_type": "markdown",
      "source": [
        "# TASK 3: Evaluate your Line of Best of Fit\n",
        "\n",
        "1.  Add a column to `df` that gives the predicted temperature for each city based on your guessed line of best fit `f_guess`\n",
        "2.  Add a column that gives the square of the error between your guessed temperature, and the actual temperature\n",
        "3.  Calculate the **Root Mean Square Error** (RMSE) as a measure of how **good** your guessed line of best fit is"
      ],
      "metadata": {
        "id": "yrnyVf-E28WJ"
      }
    },
    {
      "cell_type": "code",
      "source": [
        "np.linspace(-3,-2,12)"
      ],
      "metadata": {
        "id": "bB54SHduiP0e",
        "colab": {
          "base_uri": "https://localhost:8080/"
        },
        "outputId": "8fca9df1-8348-4d75-8450-96adeab152b0"
      },
      "execution_count": null,
      "outputs": [
        {
          "output_type": "execute_result",
          "data": {
            "text/plain": [
              "array([-3.        , -2.90909091, -2.81818182, -2.72727273, -2.63636364,\n",
              "       -2.54545455, -2.45454545, -2.36363636, -2.27272727, -2.18181818,\n",
              "       -2.09090909, -2.        ])"
            ]
          },
          "metadata": {},
          "execution_count": 35
        }
      ]
    },
    {
      "cell_type": "markdown",
      "source": [
        "# TASK 4: Least Squares Regression\n",
        "\n",
        "1.  Add code that generates a linearly spaced array of 100 possible values of `slope` to test out\n",
        "2.  Add code that generates a linearly spaced array of 100 possible values of `intercept` to test out\n",
        "3.  Write a set of two nested loops, which tests all possible values of `slope` and `intercept`. In each iteration, calculate **RMSE**, and save in dict `results`, where key is (`slope`,`intercept`)\n"
      ],
      "metadata": {
        "id": "pFUHa8Xp359w"
      }
    },
    {
      "cell_type": "code",
      "source": [
        "# Add code that generates a linearly spaced array of 100 possible values of `slope` to test out\n",
        "min_slope = \n",
        "max_slope = \n",
        "slopes = np.linspace(min_slope,max_slope,100)\n",
        "\n",
        "# Add code that generates a linearly spaced array of 100 possible values of `intercept` to test out\n",
        "min_intercept = \n",
        "max_intercept = \n",
        "intercepts=np.linspace(min_intercept,max_intercept,100)\n",
        "\n",
        "# Write a set of two nested loops, which tests all possible values of `slope` and `intercept`. \n",
        "# In each iteration, calculate **RMSE**, and save in dict `results`, where key is (`slope`,`intercept`)\n",
        "\n",
        "results={}\n",
        "# iterate through all values of slope\n",
        "for ... :\n",
        "  # iterate through all values of intercept (keeping slope constant)\n",
        "  for ... :\n",
        "    # calculate RMSE for each a,b\n",
        "    ...\n",
        "    RMSE = \n",
        "    # save this value of RMSE to `results` dictionary, where keys are current value of slope and intercept\n",
        "    results[(a,b)] = RMSE\n",
        "\n",
        "# get the key that corresponds to the minimum RMSE\n",
        "A_OPTIMAL,B_OPTIMAL = min(results, key = results.get)"
      ],
      "metadata": {
        "id": "-ZmdP7K_jcWD"
      },
      "execution_count": null,
      "outputs": []
    },
    {
      "cell_type": "code",
      "source": [
        "# nothing to change in this code block\n",
        "\n",
        "# start plot again, but draw guessed line of best fit, as well as \n",
        "# the `optimal` line of best fit \n",
        "fig, ax = plt.subplots()\n",
        "\n",
        "ax.scatter(\n",
        "    x = df[\"Lat\"],\n",
        "    y = df[\"JanTemp\"],\n",
        "    c = \"cornflowerblue\"\n",
        ")\n",
        "\n",
        "# Sample 5 rows from data at random, loop through and add city names as labels\n",
        "for i,r in df.sample(5)[[\"Lat\",\"JanTemp\"]].iterrows():\n",
        "  ax.annotate(i,(r[\"Lat\"],r[\"JanTemp\"]))\n",
        "\n",
        "# Label axes\n",
        "ax.set_xlabel(\"Latitude\")\n",
        "ax.set_ylabel(\"Temp in January\")\n",
        "\n",
        "# plot guessed line of best fit\n",
        "ax.plot(x,f_guess(x),c=\"red\",linestyle=\"dashed\",label=\"guess\")\n",
        "\n",
        "# plot `optimal` line of best fit\n",
        "f_optimal = lambda x: A_OPTIMAL*x + B_OPTIMAL\n",
        "ax.plot(\n",
        "    x,\n",
        "    f_optimal(x),\n",
        "    c=\"green\",\n",
        "    linestyle=\"dashed\",\n",
        "    label=\"optimal fit\"\n",
        ")\n",
        "plt.legend()"
      ],
      "metadata": {
        "id": "Sww6V6PBlzhm"
      },
      "execution_count": null,
      "outputs": []
    }
  ]
}